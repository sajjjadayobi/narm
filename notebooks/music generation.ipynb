{
 "cells": [
  {
   "cell_type": "code",
   "execution_count": 1,
   "metadata": {
    "ExecuteTime": {
     "end_time": "2020-10-25T04:36:20.157036Z",
     "start_time": "2020-10-25T04:36:04.934588Z"
    }
   },
   "outputs": [],
   "source": [
    "import tensorflow as tf \n",
    "import numpy as np\n",
    "import os\n",
    "import time\n",
    "import functools\n",
    "from tqdm import tqdm\n",
    "from IPython import display as dis"
   ]
  },
  {
   "cell_type": "code",
   "execution_count": 2,
   "metadata": {
    "ExecuteTime": {
     "end_time": "2020-10-25T04:36:22.524359Z",
     "start_time": "2020-10-25T04:36:20.171006Z"
    }
   },
   "outputs": [],
   "source": [
    "# !pip install mitdeeplearning\n",
    "import mitdeeplearning as mdl"
   ]
  },
  {
   "cell_type": "code",
   "execution_count": 3,
   "metadata": {
    "ExecuteTime": {
     "end_time": "2020-10-25T04:36:22.555838Z",
     "start_time": "2020-10-25T04:36:22.539903Z"
    }
   },
   "outputs": [
    {
     "name": "stdout",
     "output_type": "stream",
     "text": [
      "Found 816 songs in text\n",
      "There are 83 unique characters in the dataset\n"
     ]
    }
   ],
   "source": [
    "songs = mdl.lab1.load_training_data()\n",
    "songs_joined = \"\\n\\n\".join(songs) \n",
    "vocab = sorted(set(songs_joined))\n",
    "print(\"There are\", len(vocab), \"unique characters in the dataset\")"
   ]
  },
  {
   "cell_type": "code",
   "execution_count": 4,
   "metadata": {
    "ExecuteTime": {
     "end_time": "2020-10-25T04:36:30.242062Z",
     "start_time": "2020-10-25T04:36:30.238199Z"
    }
   },
   "outputs": [],
   "source": [
    "idx2char = np.array(vocab)\n",
    "char2idx = {u:i for i, u in enumerate(idx2char)}"
   ]
  },
  {
   "cell_type": "code",
   "execution_count": 5,
   "metadata": {
    "ExecuteTime": {
     "end_time": "2020-10-25T04:36:42.781006Z",
     "start_time": "2020-10-25T04:36:31.265102Z"
    }
   },
   "outputs": [
    {
     "name": "stderr",
     "output_type": "stream",
     "text": [
      "100%|██████████| 200425/200425 [00:11<00:00, 17423.74it/s]\n"
     ]
    }
   ],
   "source": [
    "def vectorize_song(song):\n",
    "    vec = []\n",
    "    for i in tqdm(song): \n",
    "    vec = np.append(vec , char2idx[i])\n",
    "    return np.array(vec)\n",
    "\n",
    "vectorized_songs = vectorize_song(songs_joined)"
   ]
  },
  {
   "cell_type": "code",
   "execution_count": 6,
   "metadata": {
    "ExecuteTime": {
     "end_time": "2020-10-25T04:36:43.342000Z",
     "start_time": "2020-10-25T04:36:43.333074Z"
    }
   },
   "outputs": [],
   "source": [
    "def get_batch(vectorized_songs, seq_length, batch_size):\n",
    "    n = vectorized_songs.shape[0] - 1\n",
    "    idx = np.random.choice(n-seq_length, batch_size)\n",
    "\n",
    "    input_batch = [vectorized_songs[i: i+seq_length] for i in idx]\n",
    "    output_batch = [vectorized_songs[i+1: i+seq_length+1] for i in idx]\n",
    "\n",
    "    # x_batch, y_batch provide the true inputs and targets for network training\n",
    "    x_batch = np.reshape(input_batch, [batch_size, seq_length],)\n",
    "    y_batch = np.reshape(output_batch, [batch_size, seq_length])\n",
    "    return x_batch.astype(np.int32), y_batch.astype(np.int32)"
   ]
  },
  {
   "cell_type": "code",
   "execution_count": 7,
   "metadata": {
    "ExecuteTime": {
     "end_time": "2020-10-25T04:36:44.506049Z",
     "start_time": "2020-10-25T04:36:44.492883Z"
    }
   },
   "outputs": [],
   "source": [
    "# use this trick for find lr range\n",
    "# and do smaller range for next epoch\n",
    "from tensorflow.keras.callbacks import Callback\n",
    "import matplotlib.pyplot as plt\n",
    "\n",
    "class LRFinderCallback(Callback):\n",
    "    def __init__(self, min_lr, max_lr, mom=0.9, batches_lr_update=3):\n",
    "        self.min_lr = min_lr\n",
    "        self.max_lr = max_lr\n",
    "        self.mom = mom\n",
    "        self.batches_lr_update = batches_lr_update\n",
    "        self.stop_multiplier = -20*self.mom/3 + 10 # 4 if mom=0.9  10 if mom=0\n",
    "                \n",
    "    def on_train_begin(self, logs={}):\n",
    "        p = self.params\n",
    "        n_iterations = p['steps']*p['epochs']    \n",
    "        self.learning_rates = np.geomspace(self.min_lr, self.max_lr, num=n_iterations//self.batches_lr_update+1)\n",
    "        self.losses=[]\n",
    "        self.iteration=0\n",
    "        self.best_loss=0\n",
    "        \n",
    "    \n",
    "    def on_batch_end(self, batch, logs={}):\n",
    "        loss = logs.get('loss')\n",
    "        if self.iteration!=0: # Make loss smoother using momentum\n",
    "            loss = self.losses[-1]*self.mom+loss*(1-self.mom)\n",
    "        \n",
    "        if self.iteration==0 or loss < self.best_loss: \n",
    "                self.best_loss = loss\n",
    "                \n",
    "        if self.iteration%self.batches_lr_update==0: # Evaluate each lr over 5 epochs\n",
    "            lr = self.learning_rates[self.iteration//self.batches_lr_update]            \n",
    "            self.model.optimizer.lr = lr\n",
    "            self.losses.append(loss)            \n",
    "\n",
    "        if loss > self.best_loss*self.stop_multiplier: # Stop criteria\n",
    "            self.model.stop_training = True\n",
    "                \n",
    "        self.iteration += 1\n",
    "    \n",
    "    def on_train_end(self, logs=None):\n",
    "        plt.figure(figsize=(12, 6))\n",
    "        plt.plot(self.learning_rates[:len(self.losses)], self.losses)\n",
    "        plt.xlabel(\"Learning Rate\")\n",
    "        plt.ylabel(\"Loss\")\n",
    "        plt.xscale('log')\n",
    "        plt.show()"
   ]
  },
  {
   "cell_type": "code",
   "execution_count": 8,
   "metadata": {
    "ExecuteTime": {
     "end_time": "2020-10-25T04:36:46.215914Z",
     "start_time": "2020-10-25T04:36:46.208582Z"
    }
   },
   "outputs": [],
   "source": [
    "def GRU(rnn_units):\n",
    "  return tf.keras.layers.GRU(\n",
    "    rnn_units,\n",
    "    dropout=.3,\n",
    "    return_sequences=True, # Many2Many \n",
    "    stateful=True) # show detail in below\n",
    "    # ----------------------> dataset\n",
    "    # [-----]>[-----]>[-----] batches\n",
    "    # in train time our batches aren't Sequential so it isn't different\n",
    "    # in test time it's necessary for create new sample(A_state -> B_state)\n",
    "\n",
    "class GRUResBlock(tf.keras.Model):\n",
    "    def __init__(self, rnn_units):\n",
    "        super().__init__()\n",
    "        self.gru1 = GRU(rnn_units)\n",
    "        self.gru2 = GRU(rnn_units)\n",
    "\n",
    "    def call(self, x):\n",
    "        x = self.gru1(x)\n",
    "        return x+self.gru2(x)"
   ]
  },
  {
   "cell_type": "code",
   "execution_count": 9,
   "metadata": {
    "ExecuteTime": {
     "end_time": "2020-10-25T04:36:50.092293Z",
     "start_time": "2020-10-25T04:36:47.271662Z"
    }
   },
   "outputs": [
    {
     "name": "stdout",
     "output_type": "stream",
     "text": [
      "Model: \"learner\"\n",
      "_________________________________________________________________\n",
      "Layer (type)                 Output Shape              Param #   \n",
      "=================================================================\n",
      "embedding_input (InputLayer) [(32, None)]              0         \n",
      "_________________________________________________________________\n",
      "embedding (Embedding)        (32, None, 256)           21248     \n",
      "_________________________________________________________________\n",
      "gru_res_block (GRUResBlock)  (32, None, 512)           2758656   \n",
      "_________________________________________________________________\n",
      "dense (Dense)                (32, None, 83)            42579     \n",
      "=================================================================\n",
      "Total params: 2,822,483\n",
      "Trainable params: 2,822,483\n",
      "Non-trainable params: 0\n",
      "_________________________________________________________________\n"
     ]
    }
   ],
   "source": [
    "class Learner(tf.keras.Model):\n",
    "    def train_step(self, data):\n",
    "        x, y = get_batch(vectorized_songs, 250, 32)\n",
    "        with tf.GradientTape() as tape:\n",
    "            y_pred = self(x, training=True)\n",
    "            loss = self.compiled_loss(tf.convert_to_tensor(y), y_pred) # in compiled loss (tensor, tensor)\n",
    "        gradients = tape.gradient(loss, self.trainable_variables)\n",
    "        self.optimizer.apply_gradients(zip(gradients, self.trainable_variables))\n",
    "        self.compiled_metrics.update_state(tf.convert_to_tensor(y), y_pred)\n",
    "        return {m.name: m.result() for m in self.metrics}\n",
    "\n",
    "    \n",
    "def rrn_model(rnn_unit, batch_size):\n",
    "    return tf.keras.Sequential([\n",
    "                tf.keras.layers.Embedding(len(vocab), 256, batch_input_shape=[batch_size, None]),\n",
    "                GRUResBlock(rnn_unit),\n",
    "                tf.keras.layers.Dense(units=len(vocab))])\n",
    "    \n",
    "model = rrn_model(rnn_unit=512, batch_size=32) \n",
    "    \n",
    "learner = Learner(model.inputs, model.outputs)\n",
    "loss_fn = lambda y, yp: tf.keras.losses.sparse_categorical_crossentropy(y, yp, from_logits=True)\n",
    "learner.compile(tf.keras.optimizers.Adam(3e-3), loss=loss_fn, metrics=['accuracy'])\n",
    "learner.summary()"
   ]
  },
  {
   "cell_type": "code",
   "execution_count": 10,
   "metadata": {
    "ExecuteTime": {
     "end_time": "2020-10-24T20:20:22.337927Z",
     "start_time": "2020-10-24T20:17:20.878057Z"
    }
   },
   "outputs": [
    {
     "name": "stdout",
     "output_type": "stream",
     "text": [
      "Epoch 1/2\n",
      "32/32 [==============================] - 87s 3s/step - loss: 4.0386 - accuracy: 0.1591\n",
      "Epoch 2/2\n",
      "32/32 [==============================] - 84s 3s/step - loss: nan - accuracy: 0.1600\n"
     ]
    },
    {
     "data": {
      "image/png": "[encoded data removed]",
      "text/plain": [
       "<Figure size 864x432 with 1 Axes>"
      ]
     },
     "metadata": {
      "needs_background": "light"
     },
     "output_type": "display_data"
    },
    {
     "data": {
      "text/plain": [
       "<tensorflow.python.keras.callbacks.History at 0x7fe730758c18>"
      ]
     },
     "execution_count": 10,
     "metadata": {},
     "output_type": "execute_result"
    }
   ],
   "source": [
    "iters = [0]*1000\n",
    "lr_finder = LRFinderCallback(min_lr=1e-5, max_lr=1e-1, batches_lr_update=3, mom=.5)\n",
    "learner.fit(iters, iters, batch_size=32, epochs=2, callbacks=[lr_finder])"
   ]
  },
  {
   "cell_type": "code",
   "execution_count": 10,
   "metadata": {
    "ExecuteTime": {
     "end_time": "2020-10-25T04:53:18.496010Z",
     "start_time": "2020-10-25T04:37:04.659593Z"
    }
   },
   "outputs": [
    {
     "name": "stdout",
     "output_type": "stream",
     "text": [
      "Epoch 1/10\n",
      "32/32 [==============================] - 90s 3s/step - loss: 3.3396 - accuracy: 0.1805\n",
      "Epoch 2/10\n",
      "32/32 [==============================] - 94s 3s/step - loss: 1.7223 - accuracy: 0.4690\n",
      "Epoch 3/10\n",
      "32/32 [==============================] - 92s 3s/step - loss: 0.9821 - accuracy: 0.6929\n",
      "Epoch 4/10\n",
      "32/32 [==============================] - 90s 3s/step - loss: 0.3772 - accuracy: 0.9120\n",
      "Epoch 5/10\n",
      "32/32 [==============================] - 90s 3s/step - loss: 0.1046 - accuracy: 0.9849\n",
      "Epoch 6/10\n",
      "32/32 [==============================] - 90s 3s/step - loss: 0.0388 - accuracy: 0.9960\n",
      "Epoch 7/10\n",
      "32/32 [==============================] - 99s 3s/step - loss: 0.0184 - accuracy: 0.9991\n",
      "Epoch 8/10\n",
      "32/32 [==============================] - 98s 3s/step - loss: 0.0109 - accuracy: 0.9996\n",
      "Epoch 9/10\n",
      "32/32 [==============================] - 98s 3s/step - loss: 0.0083 - accuracy: 0.9996\n",
      "Epoch 10/10\n",
      "32/32 [==============================] - 98s 3s/step - loss: 0.0056 - accuracy: 0.9998\n"
     ]
    },
    {
     "data": {
      "text/plain": [
       "<tensorflow.python.keras.callbacks.History at 0x7fe2a4461be0>"
      ]
     },
     "execution_count": 10,
     "metadata": {},
     "output_type": "execute_result"
    }
   ],
   "source": [
    "iters = [0]*1000 \n",
    "learner.fit(iters, iters, batch_size=32, epochs=10)"
   ]
  },
  {
   "cell_type": "code",
   "execution_count": 11,
   "metadata": {
    "ExecuteTime": {
     "end_time": "2020-10-25T04:53:30.263689Z",
     "start_time": "2020-10-25T04:53:29.249316Z"
    }
   },
   "outputs": [],
   "source": [
    "model.save_weights('tmp.h5')\n",
    "# recreate model with batch size 1 for create new sample\n",
    "model = rrn_model(rnn_unit=512, batch_size=1)  \n",
    "model.load_weights('tmp.h5')"
   ]
  },
  {
   "cell_type": "code",
   "execution_count": 15,
   "metadata": {
    "ExecuteTime": {
     "end_time": "2020-10-25T04:54:11.910979Z",
     "start_time": "2020-10-25T04:54:00.335804Z"
    }
   },
   "outputs": [
    {
     "name": "stderr",
     "output_type": "stream",
     "text": [
      "100%|██████████| 1000/1000 [00:11<00:00, 86.47it/s]\n"
     ]
    }
   ],
   "source": [
    "def generate_text(model, start_string, generation_length=1000):\n",
    "    input_eval = [char2idx[s] for s in start_string] # TODO\n",
    "    input_eval = tf.expand_dims(input_eval, 0)\n",
    "    text_generated = []\n",
    "    tqdm._instances.clear()\n",
    "\n",
    "    for i in tqdm(range(generation_length)):\n",
    "        predictions = model(input_eval, training=False)\n",
    "        predictions = tf.squeeze(predictions, 0)\n",
    "        predicted_id = tf.random.categorical(predictions, num_samples=1)[-1,0].numpy()\n",
    "        input_eval = tf.expand_dims([predicted_id], 0)\n",
    "        text_generated.append(idx2char[predicted_id]) # TODO \n",
    "\n",
    "    return (start_string + ''.join(text_generated))\n",
    "\n",
    "generated_text = generate_text(model, start_string='X', generation_length=1000)"
   ]
  },
  {
   "cell_type": "code",
   "execution_count": 13,
   "metadata": {
    "ExecuteTime": {
     "end_time": "2020-10-25T04:53:55.973027Z",
     "start_time": "2020-10-25T04:53:55.970214Z"
    }
   },
   "outputs": [],
   "source": [
    "#!apt-get install abcmidi timidity > /dev/null 2>&1 # for play waveform in notebook"
   ]
  },
  {
   "cell_type": "code",
   "execution_count": 16,
   "metadata": {
    "ExecuteTime": {
     "end_time": "2020-10-25T04:54:12.265061Z",
     "start_time": "2020-10-25T04:54:11.930146Z"
    }
   },
   "outputs": [
    {
     "name": "stdout",
     "output_type": "stream",
     "text": [
      "Found 5 songs in text\n"
     ]
    }
   ],
   "source": [
    "generated_songs = mdl.lab1.extract_song_snippet(generated_text)\n",
    "for i, song in enumerate(generated_songs): \n",
    "  waveform = mdl.lab1.play_song(song) \n",
    "  if waveform:\n",
    "    print(\"Generated song\", i+1)\n",
    "#     dis.display(waveform) install abcmidi and run this"
   ]
  }
 ],
 "metadata": {
  "kernelspec": {
   "display_name": "Python 3",
   "language": "python",
   "name": "python3"
  },
  "language_info": {
   "codemirror_mode": {
    "name": "ipython",
    "version": 3
   },
   "file_extension": ".py",
   "mimetype": "text/x-python",
   "name": "python",
   "nbconvert_exporter": "python",
   "pygments_lexer": "ipython3",
   "version": "3.6.9"
  },
  "varInspector": {
   "cols": {
    "lenName": 16,
    "lenType": 16,
    "lenVar": 40
   },
   "kernels_config": {
    "python": {
     "delete_cmd_postfix": "",
     "delete_cmd_prefix": "del ",
     "library": "var_list.py",
     "varRefreshCmd": "print(var_dic_list())"
    },
    "r": {
     "delete_cmd_postfix": ") ",
     "delete_cmd_prefix": "rm(",
     "library": "var_list.r",
     "varRefreshCmd": "cat(var_dic_list()) "
    }
   },
   "types_to_exclude": [
    "module",
    "function",
    "builtin_function_or_method",
    "instance",
    "_Feature"
   ],
   "window_display": false
  }
 },
 "nbformat": 4,
 "nbformat_minor": 4
}
