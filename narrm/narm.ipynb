{
  "nbformat": 4,
  "nbformat_minor": 0,
  "metadata": {
    "colab": {
      "name": "narm.ipynb",
      "provenance": []
    },
    "kernelspec": {
      "name": "python3",
      "display_name": "Python 3"
    }
  },
  "cells": [
    {
      "cell_type": "code",
      "metadata": {
        "id": "mxB9X8AkOARW"
      },
      "source": [
        "import torch\n",
        "import torch.nn as nn\n",
        "from torchsummary import summary\n",
        "import torch.optim as optim\n",
        "from torchvision import datasets, transforms\n",
        "\n",
        "\n",
        "transform = transforms.Compose([transforms.ToTensor(), transforms.Normalize((0), (255))])\n",
        "train_ds = datasets.MNIST(root='./data', train=True, download=True, transform=transform)\n",
        "test_ds = datasets.MNIST(root='./data', train=False, download=True, transform=transform)"
      ],
      "execution_count": 19,
      "outputs": []
    },
    {
      "cell_type": "code",
      "metadata": {
        "id": "vRHFOHevOP9u"
      },
      "source": [
        "# write  your custom metrics\n",
        "def acc(pred, y):\n",
        "    pred = torch.argmax(pred, dim=1)\n",
        "    return torch.sum(pred == y)"
      ],
      "execution_count": 20,
      "outputs": []
    },
    {
      "cell_type": "code",
      "metadata": {
        "id": "q6MOq0YMPcaU"
      },
      "source": [
        "from trainier import Trainer\n",
        "# from callbacks import EarlyStoping\n",
        "\n",
        "model = nn.Sequential(nn.Flatten(), nn.Linear(28*28, 128), nn.GELU(), nn.Linear(128, 10))\n",
        "loss = nn.CrossEntropyLoss()\n",
        "optimizer = optim.AdamW(model.parameters(), lr=0.005, weight_decay=0.0)\n",
        "scheduler = optim.lr_scheduler.StepLR(optimizer, step_size=1, gamma=.9)"
      ],
      "execution_count": null,
      "outputs": []
    },
    {
      "cell_type": "code",
      "metadata": {
        "colab": {
          "base_uri": "https://localhost:8080/"
        },
        "id": "7i2kWpmMOICM",
        "outputId": "97ae6eb4-3c75-43b4-80cb-c869b6789043"
      },
      "source": [
        "learner = Trainer(model=model, train_ds=train_ds, valid_ds=test_ds, optimizer=optimizer, loss=loss, metrcis=[acc])\n",
        "learner.summary()"
      ],
      "execution_count": 21,
      "outputs": [
        {
          "output_type": "stream",
          "text": [
            "----------------------------------------------------------------\n",
            "        Layer (type)               Output Shape         Param #\n",
            "================================================================\n",
            "           Flatten-1                  [-1, 784]               0\n",
            "            Linear-2                  [-1, 128]         100,480\n",
            "              GELU-3                  [-1, 128]               0\n",
            "            Linear-4                   [-1, 10]           1,290\n",
            "================================================================\n",
            "Total params: 101,770\n",
            "Trainable params: 101,770\n",
            "Non-trainable params: 0\n",
            "----------------------------------------------------------------\n",
            "Input size (MB): 0.00\n",
            "Forward/backward pass size (MB): 0.01\n",
            "Params size (MB): 0.39\n",
            "Estimated Total Size (MB): 0.40\n",
            "----------------------------------------------------------------\n"
          ],
          "name": "stdout"
        }
      ]
    },
    {
      "cell_type": "code",
      "metadata": {
        "colab": {
          "base_uri": "https://localhost:8080/",
          "height": 445
        },
        "id": "x-NuO2cUOQgV",
        "outputId": "7a79da35-62ff-4724-aa68-2722f7fea71e"
      },
      "source": [
        "learner.lr_finder(device='cpu', epochs=1)"
      ],
      "execution_count": 22,
      "outputs": [
        {
          "output_type": "stream",
          "text": [
            "\n",
            " Epoch  1/ 1\n",
            "---------------------------------------------------------------------------\n",
            " train_steps: 1864/1875   loss: 1.8641  acc: 13.053  time: 0m 27s\n",
            "\n",
            "\n"
          ],
          "name": "stdout"
        },
        {
          "output_type": "display_data",
          "data": {
            "image/png": "[encoded data removed]",
            "text/plain": [
              "<Figure size 480x320 with 1 Axes>"
            ]
          },
          "metadata": {
            "tags": [],
            "needs_background": "light"
          }
        }
      ]
    },
    {
      "cell_type": "code",
      "metadata": {
        "colab": {
          "base_uri": "https://localhost:8080/"
        },
        "id": "_RMVbpCTOVxc",
        "outputId": "249a8b1a-3126-4e06-b357-744c2d1bfa95"
      },
      "source": [
        "learner.set_lr(3e-2)\n",
        "learner.fit(2, device='cpu')"
      ],
      "execution_count": 23,
      "outputs": [
        {
          "output_type": "stream",
          "text": [
            "\n",
            " Epoch  1/ 2\n",
            "---------------------------------------------------------------------------\n",
            " train_steps: 1875/1875   loss: 0.4163  acc: 27.841  time: 0m 27s\n",
            " valid_steps: 157/157   loss: 0.2321  acc: 59.045\n",
            "\n",
            " Epoch  2/ 2\n",
            "---------------------------------------------------------------------------\n",
            " train_steps: 1875/1875   loss: 0.2082  acc: 29.999  time: 0m 27s\n",
            " valid_steps: 157/157   loss: 0.1724  acc: 60.229\n"
          ],
          "name": "stdout"
        }
      ]
    }
  ]
}