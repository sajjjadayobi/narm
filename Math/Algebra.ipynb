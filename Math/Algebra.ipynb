{
 "cells": [
  {
   "cell_type": "code",
   "execution_count": 1,
   "metadata": {
    "ExecuteTime": {
     "end_time": "2020-10-03T09:31:18.697767Z",
     "start_time": "2020-10-03T09:31:16.008063Z"
    }
   },
   "outputs": [],
   "source": [
    "import numpy as np\n",
    "from numpy.linalg import norm\n",
    "import matplotlib.pyplot as plt"
   ]
  },
  {
   "cell_type": "markdown",
   "metadata": {
    "heading_collapsed": true
   },
   "source": [
    "## Vectors"
   ]
  },
  {
   "cell_type": "markdown",
   "metadata": {
    "hidden": true
   },
   "source": [
    "$$ A, B = point \\\\\n",
    " AB = \\begin{bmatrix} b_1-a_1 & b_2-a_2 & b_3-a_3 & ... & b_n-a_n \\end{bmatrix} \\\\\n",
    " a = Vector(dir, size, slope) \\\\\n",
    " \\vec{a} = \\begin{bmatrix} x_1 & x_2 & x_3 & ... & x_n \\end{bmatrix} \\\\ \n",
    " $$"
   ]
  },
  {
   "cell_type": "code",
   "execution_count": 2,
   "metadata": {
    "ExecuteTime": {
     "end_time": "2020-09-16T07:57:18.404015Z",
     "start_time": "2020-09-16T07:57:18.398006Z"
    },
    "hidden": true
   },
   "outputs": [
    {
     "name": "stdout",
     "output_type": "stream",
     "text": [
      "[1.5 2.  1. ]\n"
     ]
    }
   ],
   "source": [
    "# Vec creation \n",
    "x1, x2, x3 = 1.5, 2, 1\n",
    "a = np.array([x1, x2, x3])\n",
    "print(a)"
   ]
  },
  {
   "cell_type": "markdown",
   "metadata": {
    "hidden": true
   },
   "source": [
    "$$\n",
    "\\vec{a}\\pm k = \\begin{bmatrix} k\\pm x_1 & k\\pm x_2 & k\\pm x_3 & ... & k\\pm x_n \\end{bmatrix} \\\\ \n",
    "\\vec{a}k = \\begin{bmatrix} kx_1 & kx_2 & kx_3 & ... & kx_n \\end{bmatrix} \\\\ \n",
    "\\vec{a} \\ || \\ \\vec{b} :  \\vec{a} = k\\vec{b}\n",
    "$$"
   ]
  },
  {
   "cell_type": "code",
   "execution_count": 2,
   "metadata": {
    "ExecuteTime": {
     "end_time": "2020-09-18T06:43:03.571866Z",
     "start_time": "2020-09-18T06:43:03.566491Z"
    },
    "hidden": true
   },
   "outputs": [],
   "source": [
    "a = np.array([2, 3, 5])\n",
    "b = np.array([1, 2, 3])"
   ]
  },
  {
   "cell_type": "code",
   "execution_count": 22,
   "metadata": {
    "ExecuteTime": {
     "end_time": "2020-09-16T08:11:19.534195Z",
     "start_time": "2020-09-16T08:11:19.526714Z"
    },
    "hidden": true
   },
   "outputs": [
    {
     "name": "stdout",
     "output_type": "stream",
     "text": [
      "org vector:  [2 3 5]\n",
      "scaler +- vector:  [0 1 3]\n",
      "scaler to vector:  [ 4  6 10]\n"
     ]
    }
   ],
   "source": [
    "k = 2\n",
    "print('org vector: ', a)\n",
    "print('scaler +- vector: ', a-k)\n",
    "print('scaler to vector: ', a*k)"
   ]
  },
  {
   "cell_type": "markdown",
   "metadata": {
    "hidden": true
   },
   "source": [
    "$$\n",
    "L2: |\\vec{a}| = \\sqrt{x_1^2+x_2^2+x_3^2+...+x_n^2} \\\\\n",
    "L1: |\\vec{a}| = {|x_1|+|x_2|+|x_3|+...+|x_n|}\n",
    "$$"
   ]
  },
  {
   "cell_type": "code",
   "execution_count": 23,
   "metadata": {
    "ExecuteTime": {
     "end_time": "2020-09-16T08:11:20.537012Z",
     "start_time": "2020-09-16T08:11:20.533256Z"
    },
    "hidden": true
   },
   "outputs": [
    {
     "name": "stdout",
     "output_type": "stream",
     "text": [
      "norm of vector:  6.164414002968976\n"
     ]
    }
   ],
   "source": [
    "# Norm Func\n",
    "def vecNorm(a, norm=2):\n",
    "    if norm==1:\n",
    "        return np.sum(np.abs(a)) # L1Norm\n",
    "    else:\n",
    "        return np.sum(np.square(a)) # L2Norm\n",
    "\n",
    "na = vecNorm(a)\n",
    "# use numpy \n",
    "norm_a = np.linalg.norm(a)\n",
    "print('norm of vector: ', norm_a)"
   ]
  },
  {
   "cell_type": "markdown",
   "metadata": {
    "hidden": true
   },
   "source": [
    "$$\n",
    "unit \\vec{V} : |\\vec{V}| = 1 \\\\\n",
    "Normalize \\ \\ e_\\vec{V} : \\frac{\\vec{V}}{|\\vec{V}|} \\\\\n",
    "$$"
   ]
  },
  {
   "cell_type": "code",
   "execution_count": 24,
   "metadata": {
    "ExecuteTime": {
     "end_time": "2020-09-16T08:11:21.911881Z",
     "start_time": "2020-09-16T08:11:21.907967Z"
    },
    "hidden": true
   },
   "outputs": [
    {
     "name": "stdout",
     "output_type": "stream",
     "text": [
      "is vector unit?  False\n",
      "is vector unit?  True\n",
      "united of vector:  [0.32444284 0.48666426 0.81110711]\n"
     ]
    }
   ],
   "source": [
    "def isUnitVec(a):\n",
    "    return True if vecNorm(a) ==1 else False\n",
    "\n",
    "def normalize(a):\n",
    "    # convert2UnitVector\n",
    "    return a / norm(a)\n",
    "\n",
    "de\n",
    "\n",
    "print('is vector unit? ', isUnitVec(a))\n",
    "e_a = normalize(a)\n",
    "print('is vector unit? ', isUnitVec(e_a))\n",
    "print('united of vector: ', e_a)"
   ]
  },
  {
   "cell_type": "markdown",
   "metadata": {
    "ExecuteTime": {
     "end_time": "2020-09-14T11:38:35.687993Z",
     "start_time": "2020-09-14T11:38:35.681571Z"
    },
    "hidden": true
   },
   "source": [
    "$$\n",
    "\\vec{a} . \\vec{b} : |\\vec{a}| \\ |\\vec{b}| \\ \\cos{\\theta} \\\\\n",
    "\\\\ \\vec{a} . \\vec{b} : \\sum_{i=0}^{n} a_i * b_i \\\\\n",
    "\\vec{a} . \\vec{b} = 0 : \\cos{\\theta} = 0 \\ \\& \\ \\vec{a} \\bot \\vec{b}\n",
    "$$"
   ]
  },
  {
   "cell_type": "code",
   "execution_count": 25,
   "metadata": {
    "ExecuteTime": {
     "end_time": "2020-09-16T08:11:25.424331Z",
     "start_time": "2020-09-16T08:11:25.420471Z"
    },
    "hidden": true
   },
   "outputs": [
    {
     "name": "stdout",
     "output_type": "stream",
     "text": [
      "a.b: 23\n"
     ]
    }
   ],
   "source": [
    "def dotProduct(a, b):\n",
    "    sum_ = 0\n",
    "    for i in range(len(a)):\n",
    "        sum_ += a[i] * b[i]\n",
    "    return sum_\n",
    "\n",
    "ab = dotProduct(a, b)\n",
    "# use numpy\n",
    "ab = np.dot(a, b)\n",
    "print('a.b:', ab)"
   ]
  },
  {
   "cell_type": "markdown",
   "metadata": {
    "hidden": true
   },
   "source": [
    "$$\n",
    "\\vec{b} . \\vec{a} = \\vec{a} . \\vec{b} \\\\\n",
    "\\vec{a} . \\vec{a} : |\\vec{a}|^2 \\\\\n",
    "\\cos{\\theta} = \\frac{\\vec{a} . \\vec{b}}{|\\vec{a}||\\vec{a}|} \\\\\n",
    "0 \\leq \\cos{\\theta} \\leq 1\n",
    "$$"
   ]
  },
  {
   "cell_type": "code",
   "execution_count": 26,
   "metadata": {
    "ExecuteTime": {
     "end_time": "2020-09-17T05:47:07.277332Z",
     "start_time": "2020-09-17T05:47:07.272396Z"
    },
    "hidden": true
   },
   "outputs": [
    {
     "name": "stdout",
     "output_type": "stream",
     "text": [
      "a.b: 23\n",
      "b.a: 23\n",
      "38 37.99999999999999\n",
      "0.605263157894737\n"
     ]
    }
   ],
   "source": [
    "print('a.b:', np.dot(a, b))\n",
    "print('b.a:', np.dot(b, a))\n",
    "\n",
    "print(np.dot(a, a) , np.square(norm(a)))\n",
    "\n",
    "# cos between tow vectors\n",
    "def cosine_sim(a, b):\n",
    "    # max sim is 1 bot is 0\n",
    "    return np.dot(a, b) / (norm(a) * norm(a))\n",
    "\n",
    "print(cosine_sim(a, b))"
   ]
  },
  {
   "cell_type": "code",
   "execution_count": 30,
   "metadata": {
    "ExecuteTime": {
     "end_time": "2020-09-16T08:14:37.361301Z",
     "start_time": "2020-09-16T08:14:37.356930Z"
    },
    "hidden": true
   },
   "outputs": [
    {
     "data": {
      "text/plain": [
       "(1.0, 0.0)"
      ]
     },
     "execution_count": 30,
     "metadata": {},
     "output_type": "execute_result"
    }
   ],
   "source": [
    "cosine_sim(b, b), cosine_sim([1, 0], [0, 1])"
   ]
  },
  {
   "cell_type": "markdown",
   "metadata": {
    "hidden": true
   },
   "source": [
    "$$\n",
    "(X,Y,Z) \\ Unit \\ \\ \\ e_x = i: \\begin{bmatrix} 1 & 0 & 0 \\end{bmatrix} \\ \\ \\\n",
    "e_y = j: \\begin{bmatrix} 0 & 1 & 0 \\end{bmatrix} \\ \\ \\\n",
    "e_z = k: \\begin{bmatrix} 0 & 0 & 1 \\end{bmatrix} \\\\\n",
    "\\cos{\\alpha} : \\frac{X_a}{|\\vec{a}|} ,\\ \\ \\ \\cos{\\beta} : \\frac{Y_a}{|\\vec{a}|} ,\\ \\ \\ \\cos{\\gamma} : \\frac{Z_a}{|\\vec{a}|}\\\\\n",
    "e_a = (\\cos\\theta, \\cos\\beta, \\cos\\gamma) \\\\\n",
    "e_a = 0 \\leq a_i \\leq 1\n",
    "$$"
   ]
  },
  {
   "cell_type": "code",
   "execution_count": 52,
   "metadata": {
    "ExecuteTime": {
     "end_time": "2020-09-16T11:11:58.405488Z",
     "start_time": "2020-09-16T11:11:58.400533Z"
    },
    "hidden": true
   },
   "outputs": [
    {
     "name": "stdout",
     "output_type": "stream",
     "text": [
      "cosin2X 0.5366563145999494, cosin2Y 0.7155417527999327, cosin2Z 0.4472135954999579\n"
     ]
    }
   ],
   "source": [
    "i = np.array([1, 0, 0])\n",
    "j = np.array([0, 1, 0])\n",
    "k = np.array([0, 0, 1])\n",
    "\n",
    "# some vector\n",
    "a = np.array([3, 4, 2.5])\n",
    "norm_a = norm(a, 2)\n",
    "print('cosin2X {}, cosin2Y {}, cosin2Z {}'.format(*normalize(a)))"
   ]
  },
  {
   "cell_type": "markdown",
   "metadata": {
    "hidden": true
   },
   "source": [
    "$$\n",
    "shadow \\ \\vec{a}\\ on \\ \\vec{b} : \\vec{a'}= \\frac{a.b}{|\\vec{b}|^2}\\vec{b} \\\\\n",
    "symmetric \\ \\vec{a}\\ on \\ \\vec{b} : \\vec{a''} = 2\\vec{a'} - \\vec{a} \\\\\n",
    "|\\vec{a}| = |\\vec{a''}|\n",
    "$$"
   ]
  },
  {
   "cell_type": "code",
   "execution_count": 70,
   "metadata": {
    "ExecuteTime": {
     "end_time": "2020-09-16T11:44:28.728751Z",
     "start_time": "2020-09-16T11:44:28.721316Z"
    },
    "hidden": true,
    "scrolled": true
   },
   "outputs": [
    {
     "name": "stdout",
     "output_type": "stream",
     "text": [
      "shadow a on b:  [1.32142857 2.64285714 3.96428571]\n",
      "symmetric a on b:  [-0.35714286  1.28571429  5.42857143]\n"
     ]
    },
    {
     "data": {
      "text/plain": [
       "True"
      ]
     },
     "execution_count": 70,
     "metadata": {},
     "output_type": "execute_result"
    }
   ],
   "source": [
    "def shadowAonB(a, b):\n",
    "    norm_of_shadow = np.dot(a, b) / norm(b)\n",
    "    eb = b / norm(b)\n",
    "    # denormalize we need eV and norm of V\n",
    "    # V = |V|e_V\n",
    "    return norm_of_shadow * eb\n",
    "\n",
    "shadow = shadowAonB(a, b)\n",
    "print('shadow a on b: ', shadow)\n",
    "\n",
    "def symmetricAonB(a, b):\n",
    "    return 2*shadowAonB(a, b) - a\n",
    "\n",
    "sym = symmetricAonB(a, b)\n",
    "print('symmetric a on b: ', sym)\n",
    "\n",
    "norm(sym) == norm(a)"
   ]
  },
  {
   "cell_type": "markdown",
   "metadata": {
    "hidden": true
   },
   "source": [
    "$$\n",
    "cross \\ product \\ \\vec{c} = \\vec{a} \\times \\vec{b} \\\\\n",
    "\\vec{c} \\bot \\vec{a}, \\vec{b} \\\\\n",
    "\\vec{a} \\times \\vec{b} \\neq \\& \\triangle \\vec{b} \\times \\vec{a} \\\\\n",
    "\\vec{a} \\times \\vec{b} = \\det\\begin{bmatrix} a_1 & a_2 & a_3 \\\\ b_1 & b_2 & b_3 \\end{bmatrix} \n",
    "= [(a_2 b_3 - a_3 b_2), -(a_1 b_3 - a_3 b_1), (a_1 b_2 - a_2 b_1)] \\\\\n",
    "\\vec{a} \\times \\vec{a} = \\vec{0} \\\\\n",
    " \\vec{a} \\times \\vec{b} = \\vec{0} \\leftrightarrow \\vec{a} \\parallel \\vec{b}\n",
    "$$"
   ]
  },
  {
   "cell_type": "code",
   "execution_count": 35,
   "metadata": {
    "ExecuteTime": {
     "end_time": "2020-09-17T06:00:54.057082Z",
     "start_time": "2020-09-17T06:00:54.051489Z"
    },
    "hidden": true
   },
   "outputs": [
    {
     "name": "stdout",
     "output_type": "stream",
     "text": [
      "a*b:  [-1 -1  1]\n",
      "b*a:  [ 1  1 -1]\n",
      "a*a:  [0 0 0]\n",
      "0 0.0\n",
      "[0 0 0]\n"
     ]
    }
   ],
   "source": [
    "ab = np.cross(a, b)\n",
    "ba = np.cross(b, a)\n",
    "aa = np.cross(a, a)\n",
    "print('a*b: ', ab)\n",
    "print('b*a: ', ba)\n",
    "print('a*a: ', aa)\n",
    "\n",
    "print(np.dot(ab, a), cosine_sim(ba, a)) # a*b is _|_ on a & b\n",
    "print(np.cross(a, a*2)) # a with any ka is ||"
   ]
  },
  {
   "cell_type": "markdown",
   "metadata": {},
   "source": [
    "## Matrices"
   ]
  },
  {
   "cell_type": "markdown",
   "metadata": {},
   "source": [
    "$$ B = \\begin{bmatrix} \n",
    "b_{11} & b_{12} & \\cdots & b_{1 n} \\\\  \n",
    "b_{21} & b_{22} & \\cdots & b_{2 n} \\\\  \n",
    "\\vdots & \\vdots & \\ddots & \\vdots \\\\  \n",
    "b_{m 1} & b_{m 2} & \\cdots & b_{m n} \\end{bmatrix}_{n\\times m} \\\\\n",
    "A = \\begin{bmatrix} a_{ij} \\end{bmatrix}_{n\\times m} , a_{ij} = any \\ Equation\n",
    "$$"
   ]
  },
  {
   "cell_type": "code",
   "execution_count": 2,
   "metadata": {
    "ExecuteTime": {
     "end_time": "2020-10-03T09:49:44.219522Z",
     "start_time": "2020-10-03T09:49:44.213256Z"
    }
   },
   "outputs": [
    {
     "data": {
      "text/plain": [
       "((2, 3), (2, 3))"
      ]
     },
     "execution_count": 2,
     "metadata": {},
     "output_type": "execute_result"
    }
   ],
   "source": [
    "a = np.array([[1, 2, 3],\n",
    "              [4, 5, 6]])\n",
    "\n",
    "b = np.arange(1, 7).reshape(2, 3)\n",
    "\n",
    "a.shape, b.shape"
   ]
  },
  {
   "cell_type": "markdown",
   "metadata": {
    "ExecuteTime": {
     "end_time": "2020-09-18T09:49:38.471201Z",
     "start_time": "2020-09-18T09:49:38.465322Z"
    }
   },
   "source": [
    "$$\n",
    "kA = \\begin{bmatrix} ka_{ij} \\end{bmatrix}_{n\\times m}\\\\\n",
    "A_{n\\times m}\\pm B_{p \\times q} = \\begin{bmatrix} a_{ij}\\pm b_{ij} \\end{bmatrix}_{n\\times m \\ or \\ p\\times q}\n",
    "$$"
   ]
  },
  {
   "cell_type": "code",
   "execution_count": 3,
   "metadata": {
    "ExecuteTime": {
     "end_time": "2020-10-03T09:49:44.837289Z",
     "start_time": "2020-10-03T09:49:44.830010Z"
    }
   },
   "outputs": [
    {
     "name": "stdout",
     "output_type": "stream",
     "text": [
      "[[ 3  6  9]\n",
      " [12 15 18]]\n",
      "[[ 2  4  6]\n",
      " [ 8 10 12]]\n"
     ]
    }
   ],
   "source": [
    "np.add(a, b) # a+b\n",
    "\n",
    "print(3*a)\n",
    "print(a+b)"
   ]
  },
  {
   "cell_type": "markdown",
   "metadata": {},
   "source": [
    "$$\n",
    "A_{n\\times m}\\times B_{p \\times q} = C_{n \\times q} \\ If \\ m=p \\\\\n",
    "A_{n\\times m}\\times B_{p \\times q} \\neq B_{n\\times m}\\times A_{p \\times q} \\ If \\ Can \\\\ \n",
    "$$\n",
    "$$\n",
    "\\begin{bmatrix} \n",
    "b_{11} & b_{12} & b_{1 n} \\\\  \n",
    "b_{21} & b_{22} & b_{2 n} \\\\  \n",
    "\\vdots & \\vdots & \\vdots \\\\  \n",
    "b_{31} & b_{32} & b_{3 n} \\end{bmatrix}_{n\\times 3} \\times\n",
    "\\begin{bmatrix} \n",
    "a_{11} & a_{12} & \\cdots & a_{1 n} \\\\  \n",
    "a_{21} & a_{22} & \\cdots & a_{2 n} \\\\    \n",
    "a_{31} & a_{32} & \\cdots & a_{3 n} \\end{bmatrix}_{3\\times m} = \n",
    "\\begin{bmatrix} \n",
    "c_{11} & c_{12} & \\cdots & c_{1 n} \\\\  \n",
    "c_{21} & c_{22} & \\cdots & c_{2 n} \\\\  \n",
    "\\vdots & \\vdots & \\ddots & \\vdots \\\\  \n",
    "c_{m 1} & c_{m 2} & \\cdots & c_{m n} \\end{bmatrix}_{n\\times m} \\\\\n",
    "$$\n",
    "$$\n",
    "c_{11} = \\sum_{i,j=1}^{3} b_{1 j} \\times a_{i 1}\\ , \\ c_{23} = \\sum_{i,j=1}^{3} b_{2 j} \\times a_{i 3} \n",
    "$$"
   ]
  },
  {
   "cell_type": "code",
   "execution_count": 4,
   "metadata": {
    "ExecuteTime": {
     "end_time": "2020-10-03T09:49:45.237960Z",
     "start_time": "2020-10-03T09:49:45.233597Z"
    }
   },
   "outputs": [
    {
     "data": {
      "text/plain": [
       "array([[25,  9,  5],\n",
       "       [23, 11, 11]])"
      ]
     },
     "execution_count": 4,
     "metadata": {},
     "output_type": "execute_result"
    }
   ],
   "source": [
    "a = np.array([[1, 2, 3],\n",
    "              [3, 2, 1]])\n",
    "\n",
    "b = np.array([[3, 2, 3], \n",
    "              [5, 2, 1], \n",
    "              [4, 1, 0]])\n",
    "c = a@b\n",
    "np.dot(a, b) # b@a not correct for shapes"
   ]
  },
  {
   "cell_type": "code",
   "execution_count": 5,
   "metadata": {
    "ExecuteTime": {
     "end_time": "2020-10-03T09:49:45.580873Z",
     "start_time": "2020-10-03T09:49:45.386329Z"
    }
   },
   "outputs": [
    {
     "data": {
      "text/plain": [
       "array([[25.,  9.,  5.],\n",
       "       [23., 11., 11.]])"
      ]
     },
     "execution_count": 5,
     "metadata": {},
     "output_type": "execute_result"
    }
   ],
   "source": [
    "def matmul(a, b):\n",
    "    c = np.zeros(shape=(a.shape[0], b.shape[1]))\n",
    "    for row in range(a.shape[0]):\n",
    "        for col in range(b.shape[1]):\n",
    "            c[row][col] = np.dot(a[row], b[:, col]) \n",
    "    return c       \n",
    "\n",
    "matmul(a, b)"
   ]
  },
  {
   "cell_type": "markdown",
   "metadata": {},
   "source": [
    "$$\n",
    "A \\times A = Can \\ Be \\ if \\ A \\ is \\ Square \\\\\n",
    "A \\times A \\times A \\times \\cdots \\times A = A^n \\\\\n",
    "A^{n-1} \\times A = A \\times A^{n-1} \\\\ \n",
    "$$"
   ]
  },
  {
   "cell_type": "code",
   "execution_count": 6,
   "metadata": {
    "ExecuteTime": {
     "end_time": "2020-10-03T09:49:45.911940Z",
     "start_time": "2020-10-03T09:49:45.731586Z"
    }
   },
   "outputs": [
    {
     "data": {
      "text/plain": [
       "array([[202,  99, 106],\n",
       "       [230, 105, 102],\n",
       "       [153,  67,  61]])"
      ]
     },
     "execution_count": 6,
     "metadata": {},
     "output_type": "execute_result"
    }
   ],
   "source": [
    "b@b # can compute b is square\n",
    "(b@b)@b"
   ]
  },
  {
   "cell_type": "markdown",
   "metadata": {},
   "source": [
    "$$\n",
    "Diagonal \\ as \\ D = \\begin{bmatrix} \n",
    "a_{11} & 0 & \\cdots & 0 \\\\  \n",
    "0 & a_{22} & \\cdots & 0 \\\\  \n",
    "\\vdots & \\vdots & \\ddots & 0 \\\\  \n",
    "0 & 0 & 0 & a_{n, n} \\end{bmatrix}_{n\\times n}  \\\\\n",
    "diag(D) = \\begin{bmatrix} a_{11} & a_{22} & a_{11} & \\cdots & a_{n n} \\end{bmatrix} \\\\\n",
    "scaler \\ matrix \\in D \\rightarrow N = \\begin{bmatrix} \n",
    "n & 0 & 0 \\\\  \n",
    "0 & n & 0 \\\\  \n",
    "0 & 0 & n \\end{bmatrix}_{3\\times 3}\\\\\n",
    "$$\n",
    "$$\n",
    "kA = scaler\\ k \\times A\n",
    "$$"
   ]
  },
  {
   "cell_type": "code",
   "execution_count": 7,
   "metadata": {
    "ExecuteTime": {
     "end_time": "2020-10-03T09:49:46.316815Z",
     "start_time": "2020-10-03T09:49:46.055323Z"
    }
   },
   "outputs": [
    {
     "name": "stdout",
     "output_type": "stream",
     "text": [
      "[[1 0 0]\n",
      " [0 4 0]\n",
      " [0 0 3]]\n",
      "[[2. 0. 0.]\n",
      " [0. 2. 0.]\n",
      " [0. 0. 2.]]\n"
     ]
    },
    {
     "data": {
      "text/plain": [
       "(array([1, 4, 3]), array([2., 2., 2.]))"
      ]
     },
     "execution_count": 7,
     "metadata": {},
     "output_type": "execute_result"
    }
   ],
   "source": [
    "c = np.diag(v=[1, 4, 3])\n",
    "print(c)\n",
    "\n",
    "scaler = np.eye(3)*2 # n=2\n",
    "print(scaler)\n",
    "\n",
    "c.diagonal(), scaler.diagonal() # get Diagonal of matrix "
   ]
  },
  {
   "cell_type": "markdown",
   "metadata": {},
   "source": [
    "$$ I \\in D \\rightarrow I = \\begin{bmatrix} \n",
    "1 & 0 & \\cdots & 0 \\\\  \n",
    "0 & 1 & \\cdots & 0 \\\\  \n",
    "\\vdots & \\vdots & 1 & 0 \\\\  \n",
    "0 & 0 & 0 & 1 \\end{bmatrix}_{n\\times n} \\\\\n",
    "$$\n",
    "$$\n",
    "IA = A = AI \\\\\n",
    "I^{n} = I \\\\\n",
    "$$"
   ]
  },
  {
   "cell_type": "code",
   "execution_count": 8,
   "metadata": {
    "ExecuteTime": {
     "end_time": "2020-10-03T09:49:46.700675Z",
     "start_time": "2020-10-03T09:49:46.444749Z"
    }
   },
   "outputs": [
    {
     "name": "stdout",
     "output_type": "stream",
     "text": [
      "[[1. 0. 0.]\n",
      " [0. 1. 0.]\n",
      " [0. 0. 1.]]\n",
      "[[1. 2. 3.]\n",
      " [3. 2. 1.]]\n",
      "[[1 2 3]\n",
      " [3 2 1]]\n"
     ]
    }
   ],
   "source": [
    "i = np.eye(3)\n",
    "print(i)\n",
    "\n",
    "print(a@i)\n",
    "print(a)"
   ]
  },
  {
   "cell_type": "markdown",
   "metadata": {},
   "source": [
    "$$\n",
    "A = \\begin{bmatrix} \n",
    "1 & 2 \\\\  \n",
    "0 & 3 \\end{bmatrix}_{n\\times m} \\rightarrow A^{T} = \\begin{bmatrix} 1 & 0 \\\\ 2 & 3 \\end{bmatrix}_{m\\times n} \\\\\n",
    "(A^{T})^{T} = A \\\\\n",
    "D^T = D \\\\\n",
    "(A\\times B \\times C)^T = C^T\\times B^T \\times A^T\n",
    "$$"
   ]
  },
  {
   "cell_type": "code",
   "execution_count": 9,
   "metadata": {
    "ExecuteTime": {
     "end_time": "2020-10-03T09:49:47.115692Z",
     "start_time": "2020-10-03T09:49:46.831839Z"
    }
   },
   "outputs": [
    {
     "name": "stdout",
     "output_type": "stream",
     "text": [
      "(3, 2) (2, 3)\n",
      "True\n",
      "True\n",
      "True\n"
     ]
    }
   ],
   "source": [
    "print(a.T.shape, a.shape)\n",
    "\n",
    "print((a.T.T==a).all())\n",
    "print((np.eye(2).T == np.eye(2)).all())\n",
    "print(((a@b).T == b.T@a.T).all())"
   ]
  },
  {
   "cell_type": "code",
   "execution_count": 10,
   "metadata": {
    "ExecuteTime": {
     "end_time": "2020-10-03T09:49:47.451168Z",
     "start_time": "2020-10-03T09:49:47.121990Z"
    }
   },
   "outputs": [],
   "source": [
    "def isSquare(a):\n",
    "    return True if a.shape[0]==a.shape[1] else False \n",
    "\n",
    "def con2Sq(a): # and symmmetric\n",
    "    return a.T@a"
   ]
  },
  {
   "cell_type": "markdown",
   "metadata": {},
   "source": [
    "$$\n",
    "Up\\triangle \\ = \\begin{bmatrix} \n",
    "b_{11} & b_{12} & b_{13} \\\\  \n",
    "0 & b_{22} & b_{23} \\\\    \n",
    "0 & 0 & b_{33} \\end{bmatrix}_{3\\times 3} \\\\\n",
    "$$\n",
    "$$\n",
    "Down\\triangle = \\begin{bmatrix} \n",
    "b_{11} & 0 & 0 \\\\  \n",
    "b_{21} & b_{22} & 0 \\\\    \n",
    "b_{31} & b_{32} & b_{33} \\end{bmatrix}_{3\\times 3} \\\\\n",
    "Up^{T} = Donw \\ , \\ Donw^T = Up\n",
    "$$"
   ]
  },
  {
   "cell_type": "code",
   "execution_count": 11,
   "metadata": {
    "ExecuteTime": {
     "end_time": "2020-10-03T09:49:47.811593Z",
     "start_time": "2020-10-03T09:49:47.457155Z"
    }
   },
   "outputs": [
    {
     "name": "stdout",
     "output_type": "stream",
     "text": [
      "[[1. 0. 0.]\n",
      " [1. 1. 0.]\n",
      " [1. 1. 1.]]\n",
      "[[1. 1. 1.]\n",
      " [0. 1. 1.]\n",
      " [0. 0. 1.]]\n"
     ]
    },
    {
     "data": {
      "text/plain": [
       "array([[3, 2, 3],\n",
       "       [0, 2, 1],\n",
       "       [0, 0, 0]])"
      ]
     },
     "execution_count": 11,
     "metadata": {},
     "output_type": "execute_result"
    }
   ],
   "source": [
    "down = np.tri(3)\n",
    "up = np.tri(3).T\n",
    "print(down)\n",
    "print(up)\n",
    "\n",
    "np.tril(b) # convert to triu for Down\n",
    "np.triu(b) # convert to triu for Upper"
   ]
  },
  {
   "cell_type": "markdown",
   "metadata": {},
   "source": [
    "$$\n",
    "if \\ A^T = A : Symmetric \\ Matrix \\ as \\ S \\\\\n",
    "D \\in S , S \\in Square \\\\\n",
    "S = \\begin{bmatrix} s_{11} & s' & s'' \\\\  s' & s_{22} & s''' \\\\  s'' & s''' & s_{33} \\end{bmatrix}_{3\\times 3} \\\\\n",
    "$$\n",
    "$$\n",
    "A^T \\times A \\in S \\\\ A \\times A^T \\in S \\\\ A^T + A \\in S \\\\\n",
    "S' \\pm S'' \\in S\n",
    "$$"
   ]
  },
  {
   "cell_type": "code",
   "execution_count": 12,
   "metadata": {
    "ExecuteTime": {
     "end_time": "2020-10-03T09:49:48.391270Z",
     "start_time": "2020-10-03T09:49:47.860067Z"
    }
   },
   "outputs": [
    {
     "name": "stdout",
     "output_type": "stream",
     "text": [
      "[[3 7 7]\n",
      " [7 2 2]\n",
      " [7 2 0]]\n"
     ]
    }
   ],
   "source": [
    "def isSymm(a):\n",
    "    if isSquare(a):\n",
    "        return np.all(a==a.T)\n",
    "    else: return False\n",
    "    \n",
    "def symmetrize(a):\n",
    "    # a+a.T - main diag\n",
    "    assert isSquare(a)\n",
    "    return a + a.T - np.diag(a.diagonal())\n",
    "\n",
    "if isSymm(b)==False: \n",
    "    print(symmetrize(b))"
   ]
  },
  {
   "cell_type": "markdown",
   "metadata": {},
   "source": [
    "$$\n",
    "if \\ A^T = -A : AntiSymmetric \\ Matrix \\ as \\  AS \\\\\n",
    "AS = \\begin{bmatrix} 0 & s' & s'' \\\\  -s' & 0 & s''' \\\\  -s'' & -s''' & 0 \\end{bmatrix}_{3\\times 3} \\\\\n",
    "$$\n",
    "$$\n",
    " A^T - A \\in AS \\\\\n",
    " AS' \\pm AS'' \\in AS \\\\ kAS \\in AS\n",
    "$$"
   ]
  },
  {
   "cell_type": "code",
   "execution_count": 13,
   "metadata": {
    "ExecuteTime": {
     "end_time": "2020-10-03T09:49:48.715036Z",
     "start_time": "2020-10-03T09:49:48.414432Z"
    }
   },
   "outputs": [
    {
     "data": {
      "text/plain": [
       "True"
      ]
     },
     "execution_count": 13,
     "metadata": {},
     "output_type": "execute_result"
    }
   ],
   "source": [
    "def isAntiSymm(a):\n",
    "    assert isSquare(a)\n",
    "    return np.all(-a==a.T)\n",
    "\n",
    "def antiSymmetrize(a):\n",
    "    # a+a.T - main diag\n",
    "    assert isSquare(a)\n",
    "    return a - a.T \n",
    "\n",
    "isAntiSymm(antiSymmetrize(b))"
   ]
  },
  {
   "cell_type": "markdown",
   "metadata": {},
   "source": [
    "$$\n",
    "det(A) = \\begin{bmatrix} \n",
    "a & b \\\\  \n",
    "c & d \\end{bmatrix}_{2\\times 2} \\rightarrow |A| = (ad-cb) \\\\\n",
    "|AB| = |A||B| \\\\\n",
    "$$\n",
    "$$\n",
    "A = \\begin{bmatrix} a & b & c \\\\  d & e & f \\\\  x & y & z \\end{bmatrix}_{3\\times 3} \\rightarrow \n",
    "A_{del \\ R1,C1}: Minor_{11} = \\begin{bmatrix} e & f \\\\  y & z \\end{bmatrix}_{2\\times 2} \\\\\n",
    "$$\n",
    "$$\n",
    "A_{ij} = (-1)^{i+j}|M_{ij}| : A_{23} = -1^5 \\times \\begin{vmatrix} a & b \\\\  x & y \\end{vmatrix} \\\\\n",
    "A_{ij} \\neq a_{ij}\n",
    "$$"
   ]
  },
  {
   "cell_type": "code",
   "execution_count": 14,
   "metadata": {
    "ExecuteTime": {
     "end_time": "2020-10-03T09:49:49.128734Z",
     "start_time": "2020-10-03T09:49:48.724428Z"
    }
   },
   "outputs": [
    {
     "name": "stdout",
     "output_type": "stream",
     "text": [
      "-2.00000\n",
      "[[2 1]\n",
      " [1 0]]\n",
      "1.0\n"
     ]
    }
   ],
   "source": [
    "from numpy.linalg import det\n",
    "\n",
    "d = np.array([[1, 2],\n",
    "              [3, 4]])\n",
    "print('%.5f'%det(d))\n",
    "\n",
    "\n",
    "def minor(a, i=0, j=0):\n",
    "    return np.delete(np.delete(a,i,axis=0), j, axis=1)\n",
    "\n",
    "def compatibility(a, i=0, j=0):#A_ij\n",
    "    return -1**(i+j) * det(minor(a, i, j))\n",
    "\n",
    "print(minor(b, 0, 0))\n",
    "print(compatibility(b, 0, 0))"
   ]
  },
  {
   "cell_type": "markdown",
   "metadata": {},
   "source": [
    "$$\n",
    "A = \\begin{bmatrix} 1 & 2 & 1 \\\\  3 & 1 & 2 \\\\  0 & 2 & 3 \\end{bmatrix}_{3\\times 3} |A| \\rightarrow^{Row 2} = a_{21}\\times A_{21} + a_{22}\\times A_{22} + a_{23} \\times A_{23}\\\\\n",
    "$$\n",
    "$$\n",
    "|A|\\rightarrow^{Col 1} = 1\\times \\begin{vmatrix} 1 & 2 \\\\ 2 & 3 \\end{vmatrix} - 3 \\times \\begin{bmatrix} 2 & 1 \\\\  2 & 3\\end{bmatrix} = 1\\times(3-4) - 3 \\times (6-2) = -13 \\\\\n",
    "$$\n",
    "$$\n",
    "det(D, Up\\triangle, Down\\triangle) = \\prod_{i=0}^{n} diag_{i} \\\\\n",
    "det(A) = det(A^T)\n",
    "$$"
   ]
  },
  {
   "cell_type": "code",
   "execution_count": 15,
   "metadata": {
    "ExecuteTime": {
     "end_time": "2020-10-03T09:49:49.461535Z",
     "start_time": "2020-10-03T09:49:49.136330Z"
    }
   },
   "outputs": [
    {
     "name": "stdout",
     "output_type": "stream",
     "text": [
      "-13.0\n",
      "[[1 2 1]\n",
      " [0 1 2]\n",
      " [0 0 3]]\n"
     ]
    },
    {
     "data": {
      "text/plain": [
       "(1.0, 3.0000000000000004)"
      ]
     },
     "execution_count": 15,
     "metadata": {},
     "output_type": "execute_result"
    }
   ],
   "source": [
    "a = np.array([[1, 2, 1],\n",
    "              [3, 1, 2],\n",
    "              [0, 2, 3]])\n",
    "\n",
    "print(det(a))\n",
    "\n",
    "up = np.triu(a)\n",
    "print(up)\n",
    "i = np.eye(3)\n",
    "det(i), det(up)"
   ]
  },
  {
   "cell_type": "markdown",
   "metadata": {},
   "source": [
    "$$\n",
    "det(A) = \\begin{vmatrix} a & b & c \\\\  d & e & f \\\\  x & y & z \\end{vmatrix}_{3\\times 3} = - \\begin{vmatrix} x & y & x \\\\  d & e & f \\\\  a & b & c \\end{vmatrix}_{3\\times 3} = - \\begin{vmatrix} c & b & a \\\\  f & e & d \\\\  z & y & x \\end{vmatrix}_{3\\times 3} \\\\\n",
    "$$\n",
    "$$\n",
    "det(A) = \\begin{vmatrix} ac & bc & c \\\\  d & e & f \\\\  x & y & z \\end{vmatrix}_{3\\times 3} =^{Factor}  c\\times det(A') \\ \\begin{vmatrix} a & b & 1 \\\\  d & e & f \\\\  x & y & z \\end{vmatrix}_{3\\times 3} =^{\\times} det(A'') \\begin{vmatrix} a & b & 1 \\\\  d & e & f \\\\  cx & cy & cz \\end{vmatrix}_{3\\times 3}\n",
    "$$\n",
    "$$\n",
    "|kA_{n \\times n}| = k^{n}|A_{n \\times n}|\n",
    "$$"
   ]
  },
  {
   "cell_type": "code",
   "execution_count": 22,
   "metadata": {
    "ExecuteTime": {
     "end_time": "2020-10-03T09:51:01.547094Z",
     "start_time": "2020-10-03T09:51:01.537223Z"
    }
   },
   "outputs": [
    {
     "name": "stdout",
     "output_type": "stream",
     "text": [
      "0.0 -6.000000000000001\n"
     ]
    },
    {
     "data": {
      "text/plain": [
       "0.0"
      ]
     },
     "execution_count": 22,
     "metadata": {},
     "output_type": "execute_result"
    }
   ],
   "source": [
    "a = np.array([[1, 2, 3],\n",
    "              [4, 5, 6],\n",
    "              [7, 8, 9]])\n",
    "\n",
    "b = np.array([[3, 2, 1],\n",
    "              [2, 3, 1],\n",
    "              [1, 3, 2]])\n",
    "\n",
    "print(det(a), det(-1*b))\n",
    "\n",
    "\n",
    "3*det(np.array([[1, 2, 1],\n",
    "                [2, 5, 4],\n",
    "                [3, 8, 7]]))\n",
    "\n",
    "det(np.array([[3*3, 2*3, 1*3],\n",
    "              [6, 5, 4],\n",
    "              [9, 8, 7]]))"
   ]
  },
  {
   "cell_type": "markdown",
   "metadata": {},
   "source": [
    "$$\n",
    "\\begin{vmatrix} a & b \\\\ c & d \\end{vmatrix} = \\begin{vmatrix} a & b\\pm ka \\\\ c & d\\pm kc \\end{vmatrix} \\\\\n",
    "A_{i} = kA_{any \\ i} \\ OR \\ \\begin{vmatrix} a & b \\\\ ak & bk \\end{vmatrix} = Det(0) \\\\\n",
    "if \\ A^T = -A\\ , \\ Rank(A)=kn+1 : Det(0) \\\\\n",
    "$$\n",
    "$$\n",
    "\\begin{bmatrix} a & 2a & 3a \\\\ b & c & 3b \\\\ c & c & c \\end{bmatrix} \\rightarrow \\begin{bmatrix} a & 0 & 0 \\\\ a & c-2a & 0 \\\\ c & -c & -2c \\end{bmatrix} = 2ac(2a-c)\\\\\n",
    "col_1 \\rightarrow^{-2} col_2 \\ , \\ col_1 \\rightarrow^{-3} col_3 \n",
    "$$"
   ]
  },
  {
   "cell_type": "code",
   "execution_count": 17,
   "metadata": {
    "ExecuteTime": {
     "end_time": "2020-10-03T09:49:50.151842Z",
     "start_time": "2020-10-03T09:49:49.883536Z"
    }
   },
   "outputs": [
    {
     "name": "stdout",
     "output_type": "stream",
     "text": [
      "0.0\n",
      "0.0\n"
     ]
    }
   ],
   "source": [
    "aa = np.array([[1, 2], \n",
    "               [1, 2]])\n",
    "print(det(aa))\n",
    "\n",
    "aa = np.array([[5, 5], \n",
    "               [1/2, 1/2]])\n",
    "print(det(aa))"
   ]
  },
  {
   "cell_type": "markdown",
   "metadata": {},
   "source": [
    "$$\n",
    "A = \\begin{bmatrix} a & b \\\\ c & d \\end{bmatrix} \\rightarrow A^{-1}= \\frac{1}{det(A)}\n",
    "\\begin{bmatrix} d & -b \\\\ -c & a \\end{bmatrix}_{Adjoint}^{A^*}\\\\\n",
    "A^{-1}A = I \\\\\n",
    "|A|= 0 \\not\\in \\ A^{-1}\n",
    "$$"
   ]
  },
  {
   "cell_type": "code",
   "execution_count": 24,
   "metadata": {
    "ExecuteTime": {
     "end_time": "2020-10-03T09:51:24.440557Z",
     "start_time": "2020-10-03T09:51:24.428305Z"
    }
   },
   "outputs": [
    {
     "data": {
      "text/plain": [
       "array([[ 1.00000000e+00,  2.49800181e-16,  1.11022302e-16],\n",
       "       [ 1.11022302e-16,  1.00000000e+00,  0.00000000e+00],\n",
       "       [-2.22044605e-16, -2.22044605e-16,  1.00000000e+00]])"
      ]
     },
     "execution_count": 24,
     "metadata": {},
     "output_type": "execute_result"
    }
   ],
   "source": [
    "from numpy.linalg import inv\n",
    "inv(b)@b"
   ]
  },
  {
   "cell_type": "code",
   "execution_count": null,
   "metadata": {},
   "outputs": [],
   "source": []
  }
 ],
 "metadata": {
  "kernelspec": {
   "display_name": "Python 3",
   "language": "python",
   "name": "python3"
  },
  "language_info": {
   "codemirror_mode": {
    "name": "ipython",
    "version": 3
   },
   "file_extension": ".py",
   "mimetype": "text/x-python",
   "name": "python",
   "nbconvert_exporter": "python",
   "pygments_lexer": "ipython3",
   "version": "3.6.9"
  },
  "varInspector": {
   "cols": {
    "lenName": 16,
    "lenType": 16,
    "lenVar": 40
   },
   "kernels_config": {
    "python": {
     "delete_cmd_postfix": "",
     "delete_cmd_prefix": "del ",
     "library": "var_list.py",
     "varRefreshCmd": "print(var_dic_list())"
    },
    "r": {
     "delete_cmd_postfix": ") ",
     "delete_cmd_prefix": "rm(",
     "library": "var_list.r",
     "varRefreshCmd": "cat(var_dic_list()) "
    }
   },
   "types_to_exclude": [
    "module",
    "function",
    "builtin_function_or_method",
    "instance",
    "_Feature"
   ],
   "window_display": false
  }
 },
 "nbformat": 4,
 "nbformat_minor": 4
}
